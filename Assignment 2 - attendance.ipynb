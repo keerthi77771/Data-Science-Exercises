{
 "cells": [
  {
   "cell_type": "code",
   "execution_count": 1,
   "id": "f483a54d-9922-49c2-8b15-9880f2c6117e",
   "metadata": {},
   "outputs": [],
   "source": [
    "import importlib\n",
    "from pets import Pet"
   ]
  },
  {
   "cell_type": "code",
   "execution_count": 2,
   "id": "d42389b0-34b1-4603-b39c-e742f3944781",
   "metadata": {},
   "outputs": [
    {
     "name": "stdout",
     "output_type": "stream",
     "text": [
      "Fluffy is a Cat, it is 5 years old\n"
     ]
    }
   ],
   "source": [
    "\n",
    "fluffy = Pet(\"Fluffy\", \"Cat\", '5')\n",
    "fluffy.display()"
   ]
  },
  {
   "cell_type": "code",
   "execution_count": 3,
   "id": "3c5b808c-e27e-4f03-95ed-d8d2cde392c9",
   "metadata": {},
   "outputs": [
    {
     "name": "stdout",
     "output_type": "stream",
     "text": [
      "Fluffy is a Cat, it is 5 years old\n"
     ]
    }
   ],
   "source": [
    "%reload_ext autoreload\n",
    "\n",
    "import pets\n",
    "importlib.reload(pets)\n",
    "from pets import Pet\n",
    "\n",
    "fuffy = Pet('Fluffy', 'Cat', 2)\n",
    "fluffy.display()"
   ]
  },
  {
   "cell_type": "code",
   "execution_count": null,
   "id": "5fd9612c-72a0-49fb-80b2-2cd07526cf35",
   "metadata": {},
   "outputs": [],
   "source": []
  }
 ],
 "metadata": {
  "kernelspec": {
   "display_name": "Python 3 (ipykernel)",
   "language": "python",
   "name": "python3"
  },
  "language_info": {
   "codemirror_mode": {
    "name": "ipython",
    "version": 3
   },
   "file_extension": ".py",
   "mimetype": "text/x-python",
   "name": "python",
   "nbconvert_exporter": "python",
   "pygments_lexer": "ipython3",
   "version": "3.12.7"
  }
 },
 "nbformat": 4,
 "nbformat_minor": 5
}
