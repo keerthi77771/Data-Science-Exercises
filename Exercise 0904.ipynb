{
 "cells": [
  {
   "cell_type": "code",
   "execution_count": 1,
   "id": "e9ad8218-54e0-4b3a-a44b-4d1e9b02e89d",
   "metadata": {},
   "outputs": [],
   "source": [
    "import pandas as pd\n",
    "import numpy as np"
   ]
  },
  {
   "cell_type": "code",
   "execution_count": 2,
   "id": "d8e69084-e744-4678-b67e-eb19c53c195f",
   "metadata": {},
   "outputs": [],
   "source": [
    "np.random.seed(42)"
   ]
  },
  {
   "cell_type": "code",
   "execution_count": 3,
   "id": "a48eebf9-7d6d-40fe-8329-37c787e6f7bb",
   "metadata": {},
   "outputs": [],
   "source": [
    "data = np.random.normal(loc=50, scale=5, size=50)"
   ]
  },
  {
   "cell_type": "code",
   "execution_count": 4,
   "id": "0f4e9c8c-b3be-4f06-908d-204c8341eb0b",
   "metadata": {},
   "outputs": [],
   "source": [
    "outliers = [100, 110, 120, 130]"
   ]
  },
  {
   "cell_type": "code",
   "execution_count": 5,
   "id": "a96446e8-7094-4c33-ab25-59acf69f79ee",
   "metadata": {},
   "outputs": [],
   "source": [
    "# Concatenated data with outliers and named it data_with_outliers\n",
    "\n",
    "data_with_outliers = np.concatenate([data, outliers])"
   ]
  },
  {
   "cell_type": "code",
   "execution_count": 6,
   "id": "979c379a-2f1f-4fc9-a087-a15626b38a35",
   "metadata": {},
   "outputs": [],
   "source": [
    "df = pd.DataFrame(data_with_outliers, columns=['values'])\n"
   ]
  },
  {
   "cell_type": "code",
   "execution_count": 7,
   "id": "d27d5643-ce54-47e3-bbe6-0a0ee51c8e14",
   "metadata": {},
   "outputs": [
    {
     "name": "stdout",
     "output_type": "stream",
     "text": [
      "           values\n",
      "count   54.000000\n",
      "mean    53.770954\n",
      "std     18.307407\n",
      "min     40.201649\n",
      "25%     46.548451\n",
      "50%     49.089898\n",
      "75%     52.655493\n",
      "max    130.000000\n"
     ]
    }
   ],
   "source": [
    "print(df.describe())"
   ]
  },
  {
   "cell_type": "code",
   "execution_count": 8,
   "id": "c859443b-eae3-46f6-a129-16ab56a5700f",
   "metadata": {},
   "outputs": [
    {
     "data": {
      "text/plain": [
       "0    -0.070320\n",
       "1    -0.243742\n",
       "2    -0.029087\n",
       "3     0.209980\n",
       "4    -0.269930\n",
       "5    -0.269926\n",
       "6     0.225325\n",
       "7     0.003617\n",
       "8    -0.334199\n",
       "9    -0.057799\n",
       "10   -0.332545\n",
       "11   -0.333177\n",
       "12   -0.139897\n",
       "13   -0.728522\n",
       "14   -0.677078\n",
       "15   -0.359548\n",
       "16   -0.482598\n",
       "17   -0.120155\n",
       "18   -0.453973\n",
       "19   -0.591699\n",
       "20    0.194309\n",
       "21   -0.267642\n",
       "22   -0.187537\n",
       "23   -0.595098\n",
       "24   -0.354658\n",
       "25   -0.175685\n",
       "26   -0.520332\n",
       "27   -0.103371\n",
       "28   -0.370022\n",
       "29   -0.285645\n",
       "30   -0.370314\n",
       "31    0.299902\n",
       "32   -0.209666\n",
       "33   -0.494855\n",
       "34    0.018668\n",
       "35   -0.539409\n",
       "36   -0.148936\n",
       "37   -0.741192\n",
       "38   -0.568725\n",
       "39   -0.152214\n",
       "40   -0.004295\n",
       "41   -0.159177\n",
       "42   -0.237565\n",
       "43   -0.288215\n",
       "44   -0.609784\n",
       "45   -0.402579\n",
       "46   -0.331786\n",
       "47    0.082735\n",
       "48   -0.112133\n",
       "49   -0.687490\n",
       "50    2.525155\n",
       "51    3.071382\n",
       "52    3.617609\n",
       "53    4.163836\n",
       "Name: zscore, dtype: float64"
      ]
     },
     "execution_count": 8,
     "metadata": {},
     "output_type": "execute_result"
    }
   ],
   "source": [
    "#standardizing the data and calculating teh z-scores to detect outliers\n",
    "\n",
    "m = df['values'].mean()\n",
    "std = df['values'].std()\n",
    "df['zscore'] = (df['values'] - m) / std\n",
    "df['zscore']\n"
   ]
  },
  {
   "cell_type": "code",
   "execution_count": 9,
   "id": "cd3bd5c1-6370-44de-ac6f-743794faa8df",
   "metadata": {},
   "outputs": [],
   "source": [
    "# Flagging outliers  {z-score<-3 & z-score>3}\n",
    "\n",
    "pos_outliers = df.loc[df['zscore'] > 3, 'values']\n",
    "neg_outliers = df.loc[df['zscore'] < -3, 'values']\n"
   ]
  },
  {
   "cell_type": "code",
   "execution_count": 10,
   "id": "61b20843-5f90-44c2-819f-873d9e503937",
   "metadata": {},
   "outputs": [
    {
     "name": "stdout",
     "output_type": "stream",
     "text": [
      "All outlier values:\n",
      " [110.0, 120.0, 130.0]\n"
     ]
    }
   ],
   "source": [
    "# Concatenating them\n",
    "all_outliers = pd.concat([pos_outliers, neg_outliers])\n",
    "\n",
    "print(\"All outlier values:\\n\", all_outliers.to_list())\n"
   ]
  },
  {
   "cell_type": "code",
   "execution_count": 11,
   "id": "2e9e08cc-1a8b-4f19-b8d6-bb65d2f0dbd6",
   "metadata": {},
   "outputs": [
    {
     "data": {
      "text/plain": [
       "0     3.960500\n",
       "1     3.898100\n",
       "2     3.974781\n",
       "3     4.053786\n",
       "4     3.888329\n",
       "5     3.888331\n",
       "6     4.058649\n",
       "7     3.985964\n",
       "8     3.863938\n",
       "9     3.964858\n",
       "10    3.864573\n",
       "11    3.864331\n",
       "12    3.935931\n",
       "13    3.699661\n",
       "14    3.722687\n",
       "15    3.854152\n",
       "16    3.805236\n",
       "17    3.942964\n",
       "18    3.816830\n",
       "19    3.759768\n",
       "20    4.048793\n",
       "21    3.889187\n",
       "22    3.918753\n",
       "23    3.758318\n",
       "24    3.856047\n",
       "25    3.923054\n",
       "26    3.789743\n",
       "27    3.948904\n",
       "28    3.850080\n",
       "29    3.882420\n",
       "30    3.849966\n",
       "31    4.081958\n",
       "32    3.910672\n",
       "33    3.800230\n",
       "34    3.991069\n",
       "35    3.781818\n",
       "36    3.932694\n",
       "37    3.693908\n",
       "38    3.769516\n",
       "39    3.931518\n",
       "40    3.983270\n",
       "41    3.929015\n",
       "42    3.900391\n",
       "43    3.881450\n",
       "44    3.752028\n",
       "45    3.837316\n",
       "46    3.864864\n",
       "47    4.012513\n",
       "48    3.945808\n",
       "49    3.718069\n",
       "50    4.605170\n",
       "51    4.700480\n",
       "52    4.787492\n",
       "53    4.867534\n",
       "Name: log_values, dtype: float64"
      ]
     },
     "execution_count": 11,
     "metadata": {},
     "output_type": "execute_result"
    }
   ],
   "source": [
    "# Applying log transformation\n",
    "df['log_values'] = np.log(df['values'])\n",
    "df['log_values']"
   ]
  },
  {
   "cell_type": "code",
   "execution_count": 12,
   "id": "e871480b-9b00-4ebc-88ab-d282c857577e",
   "metadata": {},
   "outputs": [
    {
     "name": "stdout",
     "output_type": "stream",
     "text": [
      "           values     zscore  log_values\n",
      "count   51.000000  51.000000   51.000000\n",
      "mean    49.875128  -0.212801    3.898861\n",
      "std      8.521304   0.465457    0.138447\n",
      "min     40.201649  -0.741192    3.693908\n",
      "25%     45.930329  -0.428276    3.827073\n",
      "50%     48.829315  -0.269926    3.888331\n",
      "75%     51.798291  -0.107752    3.947356\n",
      "max    100.000000   2.525155    4.605170\n"
     ]
    }
   ],
   "source": [
    "#Remove outliers based on Z-scores\n",
    "\n",
    "# Get all outliers (already built above)\n",
    "pos_outliers = df.loc[df['zscore'] > 3, 'values']\n",
    "neg_outliers = df.loc[df['zscore'] < -3, 'values']\n",
    "all_outliers = pd.concat([pos_outliers, neg_outliers])\n",
    "\n",
    "# Remove them from the dataframe\n",
    "df_no_outliers = df[~df['values'].isin(all_outliers)].reset_index(drop=True)\n",
    "\n",
    "print(df_no_outliers.describe())\n"
   ]
  },
  {
   "cell_type": "code",
   "execution_count": null,
   "id": "a5c4af7b-314a-4589-9b36-8e2a2c03609f",
   "metadata": {},
   "outputs": [],
   "source": []
  }
 ],
 "metadata": {
  "kernelspec": {
   "display_name": "Python 3 (ipykernel)",
   "language": "python",
   "name": "python3"
  },
  "language_info": {
   "codemirror_mode": {
    "name": "ipython",
    "version": 3
   },
   "file_extension": ".py",
   "mimetype": "text/x-python",
   "name": "python",
   "nbconvert_exporter": "python",
   "pygments_lexer": "ipython3",
   "version": "3.12.7"
  }
 },
 "nbformat": 4,
 "nbformat_minor": 5
}
