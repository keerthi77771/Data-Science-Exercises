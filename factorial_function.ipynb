{
 "cells": [
  {
   "cell_type": "markdown",
   "id": "6803288d-bb65-47cd-924a-2d7a61383821",
   "metadata": {},
   "source": [
    "# Introduction\n",
    "\n",
    "This notebook demonstrates how to **write, document, and run Python code** in a Jupyter Notebook.  \n",
    "Implemented a simple program to calculate the **factorial** of a number.\n",
    "\n",
    "## Learning Goals\n",
    "- Understand how to create and run Python code cells.  \n",
    "- Learn how to write **functions** in Python.  \n",
    "- Document the notebook using **Markdown** (headers, bullet points, and bold text).  \n",
    "- Test the factorial function with different inputs.  \n",
    "    "
   ]
  },
  {
   "cell_type": "code",
   "execution_count": 3,
   "id": "f632227b-1e09-4ef8-89f1-6d9fba174f82",
   "metadata": {},
   "outputs": [],
   "source": [
    "def factorial(n):\n",
    "    if n==0:\n",
    "        return 1\n",
    "    else:\n",
    "        return n*factorial(n-1)"
   ]
  },
  {
   "cell_type": "code",
   "execution_count": 5,
   "id": "365c172b-26b2-4b90-8066-0b373c265d19",
   "metadata": {},
   "outputs": [
    {
     "data": {
      "text/plain": [
       "120"
      ]
     },
     "execution_count": 5,
     "metadata": {},
     "output_type": "execute_result"
    }
   ],
   "source": [
    "factorial(5)"
   ]
  },
  {
   "cell_type": "markdown",
   "id": "9c3695da-2dcc-4db1-b71a-9a2f5f254a77",
   "metadata": {},
   "source": [
    "# How the Factorial Function Works\n",
    "\n",
    "The factorial function, denoted by an exclamation mark (!), calculates the product of all positive integers less than or equal to a given non-negative integer.\n",
    "\n",
    "## Recursive Logic\n",
    "- **Recursion** means a function calls itself until it reaches a stopping condition (base case).  \n",
    "- In our function:\n",
    "  - **Base Case:** If `n == 0`, the function returns `1`. (By definition, `0! = 1`)  \n",
    "  - **Recursive Case:** If `n > 0`, the function returns `n * factorial(n-1)`.  "
   ]
  },
  {
   "cell_type": "code",
   "execution_count": null,
   "id": "1ec6f65d-76e6-4452-84d5-7f152c842daf",
   "metadata": {},
   "outputs": [],
   "source": []
  }
 ],
 "metadata": {
  "kernelspec": {
   "display_name": "Python 3 (ipykernel)",
   "language": "python",
   "name": "python3"
  },
  "language_info": {
   "codemirror_mode": {
    "name": "ipython",
    "version": 3
   },
   "file_extension": ".py",
   "mimetype": "text/x-python",
   "name": "python",
   "nbconvert_exporter": "python",
   "pygments_lexer": "ipython3",
   "version": "3.12.7"
  }
 },
 "nbformat": 4,
 "nbformat_minor": 5
}
